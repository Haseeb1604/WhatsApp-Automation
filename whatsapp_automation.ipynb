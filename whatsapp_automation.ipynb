{
 "cells": [
  {
   "cell_type": "code",
   "execution_count": 2,
   "id": "6a52682f",
   "metadata": {},
   "outputs": [],
   "source": [
    "import pandas as pd\n",
    "import datetime"
   ]
  },
  {
   "cell_type": "code",
   "execution_count": null,
   "id": "9adde9eb",
   "metadata": {},
   "outputs": [],
   "source": [
    "import pywhatkit as pwt"
   ]
  },
  {
   "cell_type": "code",
   "execution_count": 2,
   "id": "42bd5552",
   "metadata": {},
   "outputs": [],
   "source": [
    "df = pd.read_csv(\"response.csv\")"
   ]
  },
  {
   "cell_type": "code",
   "execution_count": 3,
   "id": "3c17ae3e",
   "metadata": {},
   "outputs": [],
   "source": [
    "def convPhone(number):\n",
    "    number = str(int(number))\n",
    "    if(len(number)==10):\n",
    "        number = f\"+92{number}\"\n",
    "    elif(len(number)==12):\n",
    "         number = f\"+{number}\"\n",
    "    return str(number)"
   ]
  },
  {
   "cell_type": "code",
   "execution_count": 4,
   "id": "edbe60c8",
   "metadata": {},
   "outputs": [],
   "source": [
    "df[\"phone\"] = [convPhone(x) for x in df[\"phone\"]]"
   ]
  },
  {
   "cell_type": "code",
   "execution_count": 5,
   "id": "58ce70f0",
   "metadata": {},
   "outputs": [
    {
     "data": {
      "text/plain": [
       "0     +923488858461\n",
       "1     +923129376803\n",
       "2     +923074809401\n",
       "3     +923194721919\n",
       "4     +923135835998\n",
       "5     +923459065759\n",
       "6     +923178330579\n",
       "7     +923049393318\n",
       "8     +923329052857\n",
       "9     +923329008101\n",
       "10    +923442034411\n",
       "11    +923305835975\n",
       "12    +923100663030\n",
       "13    +923139663008\n",
       "14    +923189699566\n",
       "15    +923060000000\n",
       "16    +923166000000\n",
       "17    +923049000000\n",
       "18    +923116660860\n",
       "19    +923184439061\n",
       "20    +923469589557\n",
       "21    +923131412836\n",
       "22    +923489091696\n",
       "Name: phone, dtype: object"
      ]
     },
     "execution_count": 5,
     "metadata": {},
     "output_type": "execute_result"
    }
   ],
   "source": [
    "df.phone"
   ]
  },
  {
   "cell_type": "code",
   "execution_count": 6,
   "id": "180507e3",
   "metadata": {},
   "outputs": [
    {
     "data": {
      "text/plain": [
       "23"
      ]
     },
     "execution_count": 6,
     "metadata": {},
     "output_type": "execute_result"
    }
   ],
   "source": [
    "len(df)"
   ]
  },
  {
   "cell_type": "code",
   "execution_count": 7,
   "id": "18f4eaab",
   "metadata": {},
   "outputs": [],
   "source": [
    "checked = []"
   ]
  },
  {
   "cell_type": "code",
   "execution_count": 9,
   "id": "1a6e07ba",
   "metadata": {},
   "outputs": [],
   "source": [
    "def sendMsg(name, phone, email):\n",
    "    now = datetime.datetime.now()\n",
    "    msg =  f\"\"\"\n",
    "    Assalam O Alaikum {name}\n",
    "    Hope you're doing well\n",
    "    \n",
    "    Congratulations you have been shortlisted for GDSC CUSIT Core Team. we have send you an email on {email}, \n",
    "    Kindly check your email and book an interview slot as soon as possible.\n",
    "    \n",
    "    This message is automated so if you have already booked the slot then you can ignore this message.\n",
    "    \n",
    "    Also, Like and Follow our social media links to get future updates\n",
    "    LinkTree: https://linktr.ee/gdsccusit\n",
    "    \n",
    "    Join our Discord Server also: https://discord.com/invite/m6RYqnFBtP\n",
    "        \"\"\"\n",
    "    pwt.sendwhatmsg(phone, msg, now.hour, now.minute+1)\n",
    "    checked.append(phone)"
   ]
  },
  {
   "cell_type": "code",
   "execution_count": 10,
   "id": "66d68d15",
   "metadata": {},
   "outputs": [
    {
     "name": "stdout",
     "output_type": "stream",
     "text": [
      "sending to  Muhammad Ali\n",
      "In 9 Seconds WhatsApp will open and after 15 Seconds Message will be Delivered!\n",
      "sent to  Muhammad Ali\n",
      "\n",
      "sending to  Muhammad Hamdan \n",
      "In 45 Seconds WhatsApp will open and after 15 Seconds Message will be Delivered!\n",
      "sent to  Muhammad Hamdan \n",
      "\n",
      "sending to  Muhammad Shakeel\n",
      "In 44 Seconds WhatsApp will open and after 15 Seconds Message will be Delivered!\n",
      "sent to  Muhammad Shakeel\n",
      "\n",
      "sending to  Adnan Khan\n",
      "In 45 Seconds WhatsApp will open and after 15 Seconds Message will be Delivered!\n",
      "sent to  Adnan Khan\n",
      "\n",
      "sending to  Yawar Jan\n",
      "In 45 Seconds WhatsApp will open and after 15 Seconds Message will be Delivered!\n",
      "sent to  Yawar Jan\n",
      "\n",
      "sending to  Muhammad Rehan \n",
      "In 44 Seconds WhatsApp will open and after 15 Seconds Message will be Delivered!\n",
      "sent to  Muhammad Rehan \n",
      "\n",
      "sending to  Abdullah \n",
      "In 45 Seconds WhatsApp will open and after 15 Seconds Message will be Delivered!\n",
      "sent to  Abdullah \n",
      "\n",
      "sending to  Jamalshah\n",
      "In 45 Seconds WhatsApp will open and after 15 Seconds Message will be Delivered!\n",
      "sent to  Jamalshah\n",
      "\n",
      "sending to  Muhammad Salman \n",
      "In 45 Seconds WhatsApp will open and after 15 Seconds Message will be Delivered!\n",
      "sent to  Muhammad Salman \n",
      "\n",
      "sending to  Abubakkar\n",
      "In 44 Seconds WhatsApp will open and after 15 Seconds Message will be Delivered!\n",
      "sent to  Abubakkar\n",
      "\n",
      "sending to  Waleed Ahmed\n",
      "In 45 Seconds WhatsApp will open and after 15 Seconds Message will be Delivered!\n",
      "sent to  Waleed Ahmed\n",
      "\n",
      "sending to  Muhammad Bilal Ijaz\n",
      "In 45 Seconds WhatsApp will open and after 15 Seconds Message will be Delivered!\n",
      "sent to  Muhammad Bilal Ijaz\n",
      "\n",
      "sending to  Ibrahim Ghaznavi\n",
      "In 44 Seconds WhatsApp will open and after 15 Seconds Message will be Delivered!\n",
      "sent to  Ibrahim Ghaznavi\n",
      "\n",
      "sending to  Ali Haider\n",
      "In 45 Seconds WhatsApp will open and after 15 Seconds Message will be Delivered!\n",
      "sent to  Ali Haider\n",
      "\n",
      "sending to  Arsalan Fazal\n",
      "In 45 Seconds WhatsApp will open and after 15 Seconds Message will be Delivered!\n",
      "sent to  Arsalan Fazal\n",
      "\n",
      "sending to  Asad khan\n",
      "In 44 Seconds WhatsApp will open and after 15 Seconds Message will be Delivered!\n",
      "sent to  Asad khan\n",
      "\n",
      "sending to  Muhammad Uzair\n",
      "In 45 Seconds WhatsApp will open and after 15 Seconds Message will be Delivered!\n",
      "sent to  Muhammad Uzair\n",
      "\n",
      "sending to  Jahangir Kakar\n",
      "In 45 Seconds WhatsApp will open and after 15 Seconds Message will be Delivered!\n",
      "sent to  Jahangir Kakar\n",
      "\n",
      "sending to  Sheraz Sharif\n",
      "In 45 Seconds WhatsApp will open and after 15 Seconds Message will be Delivered!\n",
      "sent to  Sheraz Sharif\n",
      "\n",
      "sending to  Muhammad Ali\n",
      "In 44 Seconds WhatsApp will open and after 15 Seconds Message will be Delivered!\n",
      "sent to  Muhammad Ali\n",
      "\n",
      "sending to  Shah Fahad\n",
      "In 45 Seconds WhatsApp will open and after 15 Seconds Message will be Delivered!\n",
      "sent to  Shah Fahad\n",
      "\n",
      "sending to  Zoha Tariq\n",
      "In 45 Seconds WhatsApp will open and after 15 Seconds Message will be Delivered!\n",
      "sent to  Zoha Tariq\n",
      "\n",
      "sending to  Muhammad Waseem\n",
      "In 44 Seconds WhatsApp will open and after 15 Seconds Message will be Delivered!\n",
      "sent to  Muhammad Waseem\n",
      "\n"
     ]
    }
   ],
   "source": [
    "for index, row in df.iterrows():\n",
    "    print(\"sending to \", row.Name)\n",
    "    sendMsg(row.Name, row.phone,  row.Email)\n",
    "    print(\"sent to \", row.Name)\n",
    "    print()"
   ]
  }
 ],
 "metadata": {
  "kernelspec": {
   "display_name": "Python 3 (ipykernel)",
   "language": "python",
   "name": "python3"
  },
  "language_info": {
   "codemirror_mode": {
    "name": "ipython",
    "version": 3
   },
   "file_extension": ".py",
   "mimetype": "text/x-python",
   "name": "python",
   "nbconvert_exporter": "python",
   "pygments_lexer": "ipython3",
   "version": "3.9.12"
  }
 },
 "nbformat": 4,
 "nbformat_minor": 5
}
