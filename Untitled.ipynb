{
 "cells": [
  {
   "cell_type": "code",
   "execution_count": 1,
   "id": "6a52682f",
   "metadata": {},
   "outputs": [],
   "source": [
    "import pandas as pd\n",
    "import datetime"
   ]
  },
  {
   "cell_type": "code",
   "execution_count": 2,
   "id": "6b600604",
   "metadata": {},
   "outputs": [],
   "source": [
    "import pywhatkit as pwt"
   ]
  },
  {
   "cell_type": "code",
   "execution_count": 3,
   "id": "42bd5552",
   "metadata": {},
   "outputs": [],
   "source": [
    "df = pd.read_csv(\"response.csv\")"
   ]
  },
  {
   "cell_type": "code",
   "execution_count": 4,
   "id": "3c17ae3e",
   "metadata": {},
   "outputs": [],
   "source": [
    "def convPhone(number):\n",
    "    number = str(int(number))\n",
    "    if(len(number)==10):\n",
    "        number = f\"+92{number}\"\n",
    "    elif(len(number)==12):\n",
    "         number = f\"+{number}\"\n",
    "    return str(number)"
   ]
  },
  {
   "cell_type": "code",
   "execution_count": 5,
   "id": "edbe60c8",
   "metadata": {},
   "outputs": [],
   "source": [
    "df[\"phone\"] = [convPhone(x) for x in df[\"phone\"]]"
   ]
  },
  {
   "cell_type": "code",
   "execution_count": 6,
   "id": "58ce70f0",
   "metadata": {},
   "outputs": [
    {
     "data": {
      "text/plain": [
       "0    +923105156334\n",
       "1    +923105156334\n",
       "2    +923105156334\n",
       "Name: phone, dtype: object"
      ]
     },
     "execution_count": 6,
     "metadata": {},
     "output_type": "execute_result"
    }
   ],
   "source": [
    "df.phone"
   ]
  },
  {
   "cell_type": "code",
   "execution_count": 7,
   "id": "180507e3",
   "metadata": {},
   "outputs": [
    {
     "data": {
      "text/plain": [
       "3"
      ]
     },
     "execution_count": 7,
     "metadata": {},
     "output_type": "execute_result"
    }
   ],
   "source": [
    "len(df)"
   ]
  },
  {
   "cell_type": "code",
   "execution_count": 8,
   "id": "18f4eaab",
   "metadata": {},
   "outputs": [],
   "source": [
    "checked = []"
   ]
  },
  {
   "cell_type": "code",
   "execution_count": 9,
   "id": "1a6e07ba",
   "metadata": {},
   "outputs": [],
   "source": [
    "def sendMsg(name, phone, email):\n",
    "    now = datetime.datetime.now()\n",
    "    msg =  f\"\"\"\n",
    "    Assalam O Alaikum {name}\n",
    "    Hope you're doing well\n",
    "    \n",
    "    your message here\n",
    "        \"\"\"\n",
    "    pwt.sendwhatmsg(phone, msg, time_hour = now.hour, time_min= now.minute+1, tab_close=True)\n",
    "    checked.append(phone)"
   ]
  },
  {
   "cell_type": "code",
   "execution_count": 10,
   "id": "66d68d15",
   "metadata": {},
   "outputs": [],
   "source": [
    "# for index, row in df.iterrows():\n",
    "#     print(\"sending to \", row.Name)\n",
    "#     sendMsg(row.Name, row.phone,  row.Email)\n",
    "#     print(\"sent to \", row.Name)\n",
    "#     print()"
   ]
  },
  {
   "cell_type": "code",
   "execution_count": 15,
   "id": "c7ee12a1",
   "metadata": {},
   "outputs": [
    {
     "name": "stdout",
     "output_type": "stream",
     "text": [
      "In 33 Seconds WhatsApp will open and after 15 Seconds Message will be Delivered!\n"
     ]
    }
   ],
   "source": [
    "now = datetime.datetime.now()\n",
    "msg =  f\"\"\"\n",
    "Assalam O Alaikum\n",
    "Hope you're doing well\n",
    "\n",
    "your message here\n",
    "    \"\"\"\n",
    "pwt.sendwhatmsg(\"+923105156334\", msg, now.hour, now.minute+1, tab_close=True, close_time=5)"
   ]
  },
  {
   "cell_type": "code",
   "execution_count": null,
   "id": "82dabf00",
   "metadata": {},
   "outputs": [],
   "source": []
  },
  {
   "cell_type": "code",
   "execution_count": null,
   "id": "01e2d7b9",
   "metadata": {},
   "outputs": [],
   "source": []
  }
 ],
 "metadata": {
  "kernelspec": {
   "display_name": "Python 3 (ipykernel)",
   "language": "python",
   "name": "python3"
  },
  "language_info": {
   "codemirror_mode": {
    "name": "ipython",
    "version": 3
   },
   "file_extension": ".py",
   "mimetype": "text/x-python",
   "name": "python",
   "nbconvert_exporter": "python",
   "pygments_lexer": "ipython3",
   "version": "3.9.12"
  }
 },
 "nbformat": 4,
 "nbformat_minor": 5
}
